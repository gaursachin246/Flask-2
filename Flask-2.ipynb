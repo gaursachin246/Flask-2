{
 "cells": [
  {
   "cell_type": "code",
   "execution_count": 55,
   "id": "6d84f5f2-22f4-4fac-9e2b-df6a2332bffc",
   "metadata": {},
   "outputs": [],
   "source": [
    "#@app.route('/get_example', methods=['GET'])\n",
    "def get_example():\n",
    "    return \"This is a GET request.\""
   ]
  },
  {
   "cell_type": "code",
   "execution_count": 53,
   "id": "5b49dd36-da7f-4cae-a519-9ec199cb0608",
   "metadata": {},
   "outputs": [],
   "source": [
    "#@app.route('/post_example', methods=['POST'])\n",
    "def post_example():\n",
    "    data = request.json\n",
    "    return f\"Data received: {data}\"\n"
   ]
  },
  {
   "cell_type": "code",
   "execution_count": 57,
   "id": "af400c2a-89cd-485b-81e9-72da5d0064b4",
   "metadata": {},
   "outputs": [
    {
     "name": "stdout",
     "output_type": "stream",
     "text": [
      " * Serving Flask app '__main__'\n",
      " * Debug mode: on\n"
     ]
    },
    {
     "name": "stderr",
     "output_type": "stream",
     "text": [
      "WARNING: This is a development server. Do not use it in a production deployment. Use a production WSGI server instead.\n",
      " * Running on http://127.0.0.1:5000\n",
      "Press CTRL+C to quit\n",
      " * Restarting with watchdog (windowsapi)\n"
     ]
    },
    {
     "ename": "SystemExit",
     "evalue": "1",
     "output_type": "error",
     "traceback": [
      "An exception has occurred, use %tb to see the full traceback.\n",
      "\u001b[1;31mSystemExit\u001b[0m\u001b[1;31m:\u001b[0m 1\n"
     ]
    },
    {
     "name": "stderr",
     "output_type": "stream",
     "text": [
      "C:\\Users\\PC\\AppData\\Roaming\\Python\\Python312\\site-packages\\IPython\\core\\interactiveshell.py:3585: UserWarning: To exit: use 'exit', 'quit', or Ctrl-D.\n",
      "  warn(\"To exit: use 'exit', 'quit', or Ctrl-D.\", stacklevel=1)\n"
     ]
    }
   ],
   "source": [
    "from flask import Flask, jsonify\n",
    "\n",
    "app = Flask(__name__)\n",
    "\n",
    "@app.route('/api', methods=['GET'])\n",
    "def api():\n",
    "    return jsonify({\"message\": \"Hello, World!\"})\n",
    "\n",
    "if __name__ == '__main__':\n",
    "    app.run(debug=True)\n"
   ]
  },
  {
   "cell_type": "code",
   "execution_count": null,
   "id": "66b380c2-d418-4a47-b560-404c6bacfc6c",
   "metadata": {},
   "outputs": [],
   "source": []
  }
 ],
 "metadata": {
  "kernelspec": {
   "display_name": "Python 3 (ipykernel)",
   "language": "python",
   "name": "python3"
  },
  "language_info": {
   "codemirror_mode": {
    "name": "ipython",
    "version": 3
   },
   "file_extension": ".py",
   "mimetype": "text/x-python",
   "name": "python",
   "nbconvert_exporter": "python",
   "pygments_lexer": "ipython3",
   "version": "3.12.4"
  }
 },
 "nbformat": 4,
 "nbformat_minor": 5
}
